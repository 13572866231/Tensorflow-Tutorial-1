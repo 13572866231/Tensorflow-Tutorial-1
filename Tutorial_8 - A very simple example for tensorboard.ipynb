{
 "cells": [
  {
   "cell_type": "code",
   "execution_count": 2,
   "metadata": {
    "collapsed": false
   },
   "outputs": [
    {
     "name": "stdout",
     "output_type": "stream",
     "text": [
      "created log_dir path\n"
     ]
    }
   ],
   "source": [
    "import tensorflow as tf\n",
    "import os\n",
    "config  = tf.ConfigProto()\n",
    "config.gpu_options.allow_growth = True\n",
    "sess = tf.Session(config=config)\n",
    "\n",
    "\"\"\"TensorBoard 简单例子。\n",
    "tf.summary.scalar('var_name', var)        # 记录标量的变化\n",
    "tf.summary.histogram('vec_name', vec)     # 记录向量或者矩阵，tensor的数值分布变化。\n",
    "\n",
    "merged = tf.summary.merge_all()           # 把所有的记录并把他们写到 log_dir 中\n",
    "train_writer = tf.summary.FileWriter(log_dir + '/add_example', sess.graph)  # 保存位置\n",
    "\n",
    "运行完后，在命令行中输入 tensorboard --logdir=log_dir_path(你保存到log路径)\n",
    "\"\"\"\n",
    "\n",
    "log_dir = 'summary/graph/'\n",
    "if not os.path.exists(log_dir):\n",
    "    os.makedirs(log_dir)\n",
    "print 'created log_dir path'\n",
    "\n",
    "with tf.name_scope('add_example'):\n",
    "    a = tf.Variable(tf.truncated_normal([100,1], mean=0.5, stddev=0.5), name='var_a')\n",
    "    tf.summary.histogram('a_hist', a)\n",
    "    b = tf.Variable(tf.truncated_normal([100,1], mean=-0.5, stddev=1.0), name='var_b')\n",
    "    tf.summary.histogram('b_hist', b)\n",
    "    increase_b = tf.assign(b, b + 0.2)\n",
    "    c = tf.add(a, b)\n",
    "    tf.summary.histogram('c_hist', c)\n",
    "    c_mean = tf.reduce_mean(c)\n",
    "    tf.summary.scalar('c_mean', c_mean)\n",
    "merged = tf.summary.merge_all()\n",
    "writer = tf.summary.FileWriter(log_dir+'add_example', sess.graph)\n",
    "\n",
    "\n",
    "sess.run(tf.global_variables_initializer())\n",
    "for step in xrange(500):\n",
    "    sess.run([merged, increase_b])    # 每步改变一次 b 的值\n",
    "    summary = sess.run(merged)\n",
    "    writer.add_summary(summary, step)\n",
    "writer.close()"
   ]
  }
 ],
 "metadata": {
  "anaconda-cloud": {},
  "kernelspec": {
   "display_name": "Python [conda root]",
   "language": "python",
   "name": "conda-root-py"
  },
  "language_info": {
   "codemirror_mode": {
    "name": "ipython",
    "version": 2
   },
   "file_extension": ".py",
   "mimetype": "text/x-python",
   "name": "python",
   "nbconvert_exporter": "python",
   "pygments_lexer": "ipython2",
   "version": "2.7.12"
  }
 },
 "nbformat": 4,
 "nbformat_minor": 1
}
